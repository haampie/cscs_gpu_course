{
 "cells": [
  {
   "cell_type": "markdown",
   "metadata": {},
   "source": [
    "# Setup\n",
    "\n",
    "Piz Daint uses an outdated package selection, so in this notebook we'll prepare a custom depot with up-to-date packages. Let's start by inspecting the current state:"
   ]
  },
  {
   "cell_type": "code",
   "execution_count": 1,
   "metadata": {},
   "outputs": [],
   "source": [
    "using Pkg\n",
    "if VERSION == v\"1.6.1\"\n",
    "    Pkg.DEFAULT_IO[] = stdout # Pkg.jl#2542\n",
    "end"
   ]
  },
  {
   "cell_type": "code",
   "execution_count": 2,
   "metadata": {},
   "outputs": [
    {
     "name": "stdout",
     "output_type": "stream",
     "text": [
      "\u001b[32m\u001b[1m  Activating\u001b[22m\u001b[39m environment at `~/cscs_gpu_course/Project.toml`\n",
      "\u001b[32m\u001b[1m      Status\u001b[22m\u001b[39m `~/cscs_gpu_course/Project.toml`\n",
      " \u001b[90m [79e6a3ab] \u001b[39m\u001b[37mAdapt v3.3.1\u001b[39m\n",
      "\u001b[31m→\u001b[39m\u001b[90m [6e4b80f9] \u001b[39m\u001b[37mBenchmarkTools v1.2.0\u001b[39m\n",
      "\u001b[31m→\u001b[39m\u001b[90m [052768ef] \u001b[39m\u001b[37mCUDA v3.5.0 `https://github.com/JuliaGPU/CUDA.jl.git#4a575ea`\u001b[39m\n",
      "\u001b[31m→\u001b[39m\u001b[90m [72cfdca4] \u001b[39m\u001b[37mCUDAKernels v0.3.1\u001b[39m\n",
      " \u001b[90m [3da002f7] \u001b[39m\u001b[37mColorTypes v0.11.0\u001b[39m\n",
      " \u001b[90m [53c48c17] \u001b[39m\u001b[37mFixedPointNumbers v0.8.4\u001b[39m\n",
      " \u001b[90m [61eb1bfa] \u001b[39m\u001b[37mGPUCompiler v0.13.7\u001b[39m\n",
      " \u001b[90m [7073ff75] \u001b[39m\u001b[37mIJulia v1.23.2\u001b[39m\n",
      "\u001b[31m→\u001b[39m\u001b[90m [916415d5] \u001b[39m\u001b[37mImages v0.24.1\u001b[39m\n",
      "\u001b[31m→\u001b[39m\u001b[90m [63c18a36] \u001b[39m\u001b[37mKernelAbstractions v0.7.1\u001b[39m\n",
      "\u001b[31m→\u001b[39m\u001b[90m [5e47fb64] \u001b[39m\u001b[37mTestImages v1.6.2\u001b[39m\n",
      "\u001b[31m→\u001b[39m\u001b[90m [bc48ee85] \u001b[39m\u001b[37mTullio v0.3.2\u001b[39m\n",
      "\u001b[32m\u001b[1m        Info\u001b[22m\u001b[39m packages marked with \u001b[31m→\u001b[39m not downloaded, use `instantiate` to download\n"
     ]
    }
   ],
   "source": [
    "Pkg.activate(@__DIR__)\n",
    "Pkg.status()"
   ]
  },
  {
   "cell_type": "markdown",
   "metadata": {},
   "source": [
    "If you haven't run this notebook, many packages will be missing. We can't simply instantiate because the homedir filesystem is really slow, doesn't support `git`, and sadly hosts the main depot:"
   ]
  },
  {
   "cell_type": "code",
   "execution_count": 3,
   "metadata": {},
   "outputs": [
    {
     "data": {
      "text/plain": [
       "6-element Vector{String}:\n",
       " \"/users/class99/.julia/1.6.1/daint-gpu\"\n",
       " \"/apps/daint/UES/jenkins/7.0.UP02-20.11/gpu/easybuild/software/jupyterlab/1.2.21-CrayGNU-20.11-batchspawner-cuda/share/IJulia\"\n",
       " \"/apps/daint/UES/jenkins/7.0.UP02-20.11/gpu/easybuild/software/JuliaExtensions/1.6.1-CrayGNU-20.11-cuda/extensions\"\n",
       " \"/apps/daint/UES/jenkins/7.0.UP02-20.11/gpu/easybuild/software/Julia/1.6.1-CrayGNU-20.11-cuda/extensions\"\n",
       " \"/apps/daint/UES/jenkins/7.0.UP02-20.11/gpu/easybuild/software/Julia/1.6.1-CrayGNU-20.11-cuda/local/share/julia\"\n",
       " \"/apps/daint/UES/jenkins/7.0.UP02-20.11/gpu/easybuild/software/Julia/1.6.1-CrayGNU-20.11-cuda/share/julia\""
      ]
     },
     "execution_count": 3,
     "metadata": {},
     "output_type": "execute_result"
    }
   ],
   "source": [
    "DEPOT_PATH"
   ]
  },
  {
   "cell_type": "markdown",
   "metadata": {},
   "source": [
    "We can't simply replace the depot now, because Jupyter has already preloaded quite some packages, so let's write a startup file that replaces our depot before any of that happens:"
   ]
  },
  {
   "cell_type": "code",
   "execution_count": 4,
   "metadata": {},
   "outputs": [
    {
     "name": "stdout",
     "output_type": "stream",
     "text": [
      "config_dir = joinpath(DEPOT_PATH[1], \"config\") = \"/users/class99/.julia/1.6.1/daint-gpu/config\"\n",
      "config_file = joinpath(config_dir, \"startup.jl\") = \"/users/class99/.julia/1.6.1/daint-gpu/config/startup.jl\"\n"
     ]
    }
   ],
   "source": [
    "@show config_dir = joinpath(DEPOT_PATH[1], \"config\")\n",
    "isdir(config_dir) || mkdir(config_dir)\n",
    "\n",
    "@show config_file = joinpath(config_dir, \"startup.jl\")\n",
    "open(config_file, \"w\") do io\n",
    "    println(io, \"\"\"\n",
    "        DEPOT_PATH[1] = \"/scratch/snx3000/$(ENV[\"USER\"])/julia\"\n",
    "    \"\"\")\n",
    "end"
   ]
  },
  {
   "cell_type": "markdown",
   "metadata": {},
   "source": [
    "For now, since we won't be actually doing anything useful in *this* notebook, we *can* replace the depot just to install the packages we need:"
   ]
  },
  {
   "cell_type": "code",
   "execution_count": 5,
   "metadata": {},
   "outputs": [
    {
     "data": {
      "text/plain": [
       "\"/scratch/snx3000/class99/julia\""
      ]
     },
     "execution_count": 5,
     "metadata": {},
     "output_type": "execute_result"
    }
   ],
   "source": [
    "DEPOT_PATH[1] = \"/scratch/snx3000/$(ENV[\"USER\"])/julia\""
   ]
  },
  {
   "cell_type": "markdown",
   "metadata": {},
   "source": [
    "With that in place, we can install packages and verify we have everything we need:"
   ]
  },
  {
   "cell_type": "code",
   "execution_count": 6,
   "metadata": {},
   "outputs": [
    {
     "name": "stdout",
     "output_type": "stream",
     "text": [
      "\u001b[32m\u001b[1m     Cloning\u001b[22m\u001b[39m git-repo `https://github.com/JuliaGPU/CUDA.jl.git`\n",
      "\u001b[32m\u001b[1m   Installed\u001b[22m\u001b[39m ProgressMeter ───────────── v1.7.1\n",
      "\u001b[32m\u001b[1m   Installed\u001b[22m\u001b[39m ImageAxes ───────────────── v0.6.9\n",
      "\u001b[32m\u001b[1m   Installed\u001b[22m\u001b[39m FFTW_jll ────────────────── v3.3.10+0\n",
      "\u001b[32m\u001b[1m   Installed\u001b[22m\u001b[39m ImageMagick ─────────────── v1.2.1\n",
      "\u001b[32m\u001b[1m   Installed\u001b[22m\u001b[39m IntervalSets ────────────── v0.5.3\n",
      "\u001b[32m\u001b[1m   Installed\u001b[22m\u001b[39m OpenEXR ─────────────────── v0.3.2\n",
      "\u001b[32m\u001b[1m   Installed\u001b[22m\u001b[39m Parameters ──────────────── v0.12.3\n",
      "\u001b[32m\u001b[1m   Installed\u001b[22m\u001b[39m StackViews ──────────────── v0.1.1\n",
      "\u001b[32m\u001b[1m   Installed\u001b[22m\u001b[39m FFTViews ────────────────── v0.3.2\n",
      "\u001b[32m\u001b[1m   Installed\u001b[22m\u001b[39m Imath_jll ───────────────── v3.1.2+0\n",
      "\u001b[32m\u001b[1m   Installed\u001b[22m\u001b[39m TestImages ──────────────── v1.6.2\n",
      "\u001b[32m\u001b[1m   Installed\u001b[22m\u001b[39m ImageDistances ──────────── v0.2.13\n",
      "\u001b[32m\u001b[1m   Installed\u001b[22m\u001b[39m ColorVectorSpace ────────── v0.9.7\n",
      "\u001b[32m\u001b[1m   Installed\u001b[22m\u001b[39m Distances ───────────────── v0.10.6\n",
      "\u001b[32m\u001b[1m   Installed\u001b[22m\u001b[39m Parsers ─────────────────── v2.1.2\n",
      "\u001b[32m\u001b[1m   Installed\u001b[22m\u001b[39m PaddedViews ─────────────── v0.5.10\n",
      "\u001b[32m\u001b[1m   Installed\u001b[22m\u001b[39m ImageMagick_jll ─────────── v6.9.12+0\n",
      "\u001b[32m\u001b[1m   Installed\u001b[22m\u001b[39m AxisAlgorithms ──────────── v1.0.1\n",
      "\u001b[32m\u001b[1m   Installed\u001b[22m\u001b[39m AxisArrays ──────────────── v0.4.4\n",
      "\u001b[32m\u001b[1m   Installed\u001b[22m\u001b[39m Cassette ────────────────── v0.3.9\n",
      "\u001b[32m\u001b[1m   Installed\u001b[22m\u001b[39m BenchmarkTools ──────────── v1.2.0\n",
      "\u001b[32m\u001b[1m   Installed\u001b[22m\u001b[39m FileIO ──────────────────── v1.11.2\n",
      "\u001b[32m\u001b[1m   Installed\u001b[22m\u001b[39m OpenEXR_jll ─────────────── v3.1.1+0\n",
      "\u001b[32m\u001b[1m   Installed\u001b[22m\u001b[39m DiffRules ───────────────── v1.3.1\n",
      "\u001b[32m\u001b[1m   Installed\u001b[22m\u001b[39m EllipsisNotation ────────── v1.1.0\n",
      "\u001b[32m\u001b[1m   Installed\u001b[22m\u001b[39m Netpbm ──────────────────── v1.0.1\n",
      "\u001b[32m\u001b[1m   Installed\u001b[22m\u001b[39m TiledIteration ──────────── v0.3.1\n",
      "\u001b[32m\u001b[1m   Installed\u001b[22m\u001b[39m TiffImages ──────────────── v0.5.1\n",
      "\u001b[32m\u001b[1m   Installed\u001b[22m\u001b[39m DataAPI ─────────────────── v1.9.0\n",
      "\u001b[32m\u001b[1m   Installed\u001b[22m\u001b[39m OffsetArrays ────────────── v1.10.7\n",
      "\u001b[32m\u001b[1m   Installed\u001b[22m\u001b[39m IntelOpenMP_jll ─────────── v2018.0.3+2\n",
      "\u001b[32m\u001b[1m   Installed\u001b[22m\u001b[39m SimpleTraits ────────────── v0.9.4\n",
      "\u001b[32m\u001b[1m   Installed\u001b[22m\u001b[39m MacroTools ──────────────── v0.5.9\n",
      "\u001b[32m\u001b[1m   Installed\u001b[22m\u001b[39m RangeArrays ─────────────── v0.3.2\n",
      "\u001b[32m\u001b[1m   Installed\u001b[22m\u001b[39m ImageCore ───────────────── v0.8.22\n",
      "\u001b[32m\u001b[1m   Installed\u001b[22m\u001b[39m ImageMetadata ───────────── v0.9.5\n",
      "\u001b[32m\u001b[1m   Installed\u001b[22m\u001b[39m CustomUnitRanges ────────── v1.0.2\n",
      "\u001b[32m\u001b[1m   Installed\u001b[22m\u001b[39m Ratios ──────────────────── v0.4.2\n",
      "\u001b[32m\u001b[1m   Installed\u001b[22m\u001b[39m Inflate ─────────────────── v0.1.2\n",
      "\u001b[32m\u001b[1m   Installed\u001b[22m\u001b[39m StatsBase ───────────────── v0.33.12\n",
      "\u001b[32m\u001b[1m   Installed\u001b[22m\u001b[39m IndirectArrays ──────────── v0.5.1\n",
      "\u001b[32m\u001b[1m   Installed\u001b[22m\u001b[39m WoodburyMatrices ────────── v0.5.5\n",
      "\u001b[32m\u001b[1m   Installed\u001b[22m\u001b[39m IdentityRanges ──────────── v0.3.1\n",
      "\u001b[32m\u001b[1m   Installed\u001b[22m\u001b[39m Static ──────────────────── v0.4.0\n",
      "\u001b[32m\u001b[1m   Installed\u001b[22m\u001b[39m StaticArrays ────────────── v1.2.13\n",
      "\u001b[32m\u001b[1m   Installed\u001b[22m\u001b[39m CUDAKernels ─────────────── v0.3.1\n",
      "\u001b[32m\u001b[1m   Installed\u001b[22m\u001b[39m CatIndices ──────────────── v0.2.2\n",
      "\u001b[32m\u001b[1m   Installed\u001b[22m\u001b[39m ComputationalResources ──── v0.3.2\n",
      "\u001b[32m\u001b[1m   Installed\u001b[22m\u001b[39m Missings ────────────────── v1.0.2\n",
      "\u001b[32m\u001b[1m   Installed\u001b[22m\u001b[39m Rotations ───────────────── v1.0.4\n",
      "\u001b[32m\u001b[1m   Installed\u001b[22m\u001b[39m MKL_jll ─────────────────── v2021.1.1+2\n",
      "\u001b[32m\u001b[1m   Installed\u001b[22m\u001b[39m UnPack ──────────────────── v1.0.2\n",
      "\u001b[32m\u001b[1m   Installed\u001b[22m\u001b[39m Graphics ────────────────── v1.1.1\n",
      "\u001b[32m\u001b[1m   Installed\u001b[22m\u001b[39m VersionParsing ──────────── v1.2.1\n",
      "\u001b[32m\u001b[1m   Installed\u001b[22m\u001b[39m ImageShow ───────────────── v0.3.1\n",
      "\u001b[32m\u001b[1m   Installed\u001b[22m\u001b[39m IfElse ──────────────────── v0.1.1\n",
      "\u001b[32m\u001b[1m   Installed\u001b[22m\u001b[39m KernelAbstractions ──────── v0.7.1\n",
      "\u001b[32m\u001b[1m   Installed\u001b[22m\u001b[39m ImageFiltering ──────────── v0.6.21\n",
      "\u001b[32m\u001b[1m   Installed\u001b[22m\u001b[39m MosaicViews ─────────────── v0.3.3\n",
      "\u001b[32m\u001b[1m   Installed\u001b[22m\u001b[39m PkgVersion ──────────────── v0.1.1\n",
      "\u001b[32m\u001b[1m   Installed\u001b[22m\u001b[39m ImageQualityIndexes ─────── v0.2.2\n",
      "\u001b[32m\u001b[1m   Installed\u001b[22m\u001b[39m StringDistances ─────────── v0.11.1\n",
      "\u001b[32m\u001b[1m   Installed\u001b[22m\u001b[39m ImageTransformations ────── v0.8.13\n",
      "\u001b[32m\u001b[1m   Installed\u001b[22m\u001b[39m ImageIO ─────────────────── v0.5.9\n",
      "\u001b[32m\u001b[1m   Installed\u001b[22m\u001b[39m Interpolations ──────────── v0.13.4\n",
      "\u001b[32m\u001b[1m   Installed\u001b[22m\u001b[39m FFTW ────────────────────── v1.4.5\n",
      "\u001b[32m\u001b[1m   Installed\u001b[22m\u001b[39m ImageMorphology ─────────── v0.2.11\n",
      "\u001b[32m\u001b[1m   Installed\u001b[22m\u001b[39m Tullio ──────────────────── v0.3.2\n",
      "\u001b[32m\u001b[1m   Installed\u001b[22m\u001b[39m PNGFiles ────────────────── v0.3.11\n",
      "\u001b[32m\u001b[1m   Installed\u001b[22m\u001b[39m TensorCore ──────────────── v0.1.1\n",
      "\u001b[32m\u001b[1m   Installed\u001b[22m\u001b[39m MappedArrays ────────────── v0.4.1\n",
      "\u001b[32m\u001b[1m   Installed\u001b[22m\u001b[39m CoordinateTransformations ─ v0.6.2\n",
      "\u001b[32m\u001b[1m   Installed\u001b[22m\u001b[39m Images ──────────────────── v0.24.1\n",
      "\u001b[32m\u001b[1m   Installed\u001b[22m\u001b[39m ArrayInterface ──────────── v3.1.38\n",
      "\u001b[32m\u001b[1m   Installed\u001b[22m\u001b[39m ImageContrastAdjustment ─── v0.3.7\n",
      "\u001b[32m\u001b[1mPrecompiling\u001b[22m\u001b[39m project...\n",
      "\u001b[32m  ✓ \u001b[39m\u001b[90mIfElse\u001b[39m\n",
      "\u001b[32m  ✓ \u001b[39m\u001b[90mDataAPI\u001b[39m\n",
      "\u001b[32m  ✓ \u001b[39m\u001b[90mCustomUnitRanges\u001b[39m\n",
      "\u001b[32m  ✓ \u001b[39m\u001b[90mUnPack\u001b[39m\n",
      "\u001b[32m  ✓ \u001b[39m\u001b[90mRangeArrays\u001b[39m\n",
      "\u001b[32m  ✓ \u001b[39m\u001b[90mTensorCore\u001b[39m\n",
      "\u001b[32m  ✓ \u001b[39m\u001b[90mIndirectArrays\u001b[39m\n",
      "\u001b[32m  ✓ \u001b[39m\u001b[90mVersionParsing\u001b[39m\n",
      "\u001b[32m  ✓ \u001b[39m\u001b[90mRatios\u001b[39m\n",
      "\u001b[32m  ✓ \u001b[39m\u001b[90mPkgVersion\u001b[39m\n",
      "\u001b[32m  ✓ \u001b[39m\u001b[90mMappedArrays\u001b[39m\n",
      "\u001b[32m  ✓ \u001b[39m\u001b[90mWoodburyMatrices\u001b[39m\n",
      "\u001b[32m  ✓ \u001b[39m\u001b[90mComputationalResources\u001b[39m\n",
      "\u001b[32m  ✓ \u001b[39m\u001b[90mInflate\u001b[39m\n",
      "\u001b[32m  ✓ \u001b[39m\u001b[90mProgressMeter\u001b[39m\n",
      "\u001b[32m  ✓ \u001b[39m\u001b[90mDistances\u001b[39m\n",
      "\u001b[32m  ✓ \u001b[39m\u001b[90mAxisAlgorithms\u001b[39m\n",
      "\u001b[32m  ✓ \u001b[39m\u001b[90mParameters\u001b[39m\n",
      "\u001b[32m  ✓ \u001b[39m\u001b[90mMissings\u001b[39m\n",
      "\u001b[32m  ✓ \u001b[39m\u001b[90mStatic\u001b[39m\n",
      "\u001b[32m  ✓ \u001b[39m\u001b[90mOffsetArrays\u001b[39m\n",
      "\u001b[32m  ✓ \u001b[39m\u001b[90mImath_jll\u001b[39m\n",
      "\u001b[32m  ✓ \u001b[39m\u001b[90mCassette\u001b[39m\n",
      "\u001b[32m  ✓ \u001b[39m\u001b[90mlibpng_jll\u001b[39m\n",
      "\u001b[32m  ✓ \u001b[39m\u001b[90mStringDistances\u001b[39m\n",
      "\u001b[32m  ✓ \u001b[39m\u001b[90mIntelOpenMP_jll\u001b[39m\n",
      "\u001b[32m  ✓ \u001b[39m\u001b[90mZstd_jll\u001b[39m\n",
      "\u001b[32m  ✓ \u001b[39m\u001b[90mStackViews\u001b[39m\n",
      "\u001b[32m  ✓ \u001b[39m\u001b[90mJpegTurbo_jll\u001b[39m\n",
      "\u001b[32m  ✓ \u001b[39m\u001b[90mFFTW_jll\u001b[39m\n",
      "\u001b[32m  ✓ \u001b[39m\u001b[90mOpenSpecFun_jll\u001b[39m\n",
      "\u001b[32m  ✓ \u001b[39m\u001b[90mPaddedViews\u001b[39m\n",
      "\u001b[32m  ✓ \u001b[39m\u001b[90mIdentityRanges\u001b[39m\n",
      "\u001b[32m  ✓ \u001b[39m\u001b[90mCatIndices\u001b[39m\n",
      "\u001b[32m  ✓ \u001b[39m\u001b[90mTiledIteration\u001b[39m\n",
      "\u001b[32m  ✓ \u001b[39m\u001b[90mLLVMExtra_jll\u001b[39m\n",
      "\u001b[32m  ✓ \u001b[39m\u001b[90mMacroTools\u001b[39m\n",
      "\u001b[32m  ✓ \u001b[39m\u001b[90mMosaicViews\u001b[39m\n",
      "\u001b[32m  ✓ \u001b[39m\u001b[90mFileIO\u001b[39m\n",
      "\u001b[32m  ✓ \u001b[39m\u001b[90mArrayInterface\u001b[39m\n",
      "\u001b[32m  ✓ \u001b[39m\u001b[90mOpenEXR_jll\u001b[39m\n",
      "\u001b[32m  ✓ \u001b[39m\u001b[90mMKL_jll\u001b[39m\n",
      "\u001b[32m  ✓ \u001b[39m\u001b[90mSimpleTraits\u001b[39m\n",
      "\u001b[32m  ✓ \u001b[39m\u001b[90mEllipsisNotation\u001b[39m\n",
      "\u001b[32m  ✓ \u001b[39m\u001b[90mLibtiff_jll\u001b[39m\n",
      "\u001b[32m  ✓ \u001b[39m\u001b[90mParsers\u001b[39m\n",
      "\u001b[32m  ✓ \u001b[39m\u001b[90mIntervalSets\u001b[39m\n",
      "\u001b[32m  ✓ \u001b[39m\u001b[90mJSON\u001b[39m\n",
      "\u001b[32m  ✓ \u001b[39m\u001b[90mImageMagick_jll\u001b[39m\n",
      "\u001b[32m  ✓ \u001b[39m\u001b[90mConda\u001b[39m\n",
      "\u001b[32m  ✓ \u001b[39m\u001b[90mAxisArrays\u001b[39m\n",
      "\u001b[32m  ✓ \u001b[39mBenchmarkTools\n",
      "\u001b[32m  ✓ \u001b[39m\u001b[90mGraphics\u001b[39m\n",
      "\u001b[32m  ✓ \u001b[39m\u001b[90mLLVM\u001b[39m\n",
      "\u001b[32m  ✓ \u001b[39m\u001b[90mSpecialFunctions\u001b[39m\n",
      "\u001b[32m  ✓ \u001b[39m\u001b[90mStatsBase\u001b[39m\n",
      "\u001b[32m  ✓ \u001b[39m\u001b[90mDiffRules\u001b[39m\n",
      "\u001b[32m  ✓ \u001b[39m\u001b[90mStaticArrays\u001b[39m\n",
      "\u001b[32m  ✓ \u001b[39mIJulia\n",
      "\u001b[32m  ✓ \u001b[39mTestImages\n",
      "\u001b[32m  ✓ \u001b[39m\u001b[90mOpenEXR\u001b[39m\n",
      "\u001b[32m  ✓ \u001b[39m\u001b[90mCoordinateTransformations\u001b[39m\n",
      "\u001b[32m  ✓ \u001b[39m\u001b[90mColorVectorSpace\u001b[39m\n",
      "\u001b[32m  ✓ \u001b[39mKernelAbstractions\n",
      "\u001b[32m  ✓ \u001b[39m\u001b[90mImageCore\u001b[39m\n",
      "\u001b[32m  ✓ \u001b[39m\u001b[90mInterpolations\u001b[39m\n",
      "\u001b[32m  ✓ \u001b[39m\u001b[90mRotations\u001b[39m\n",
      "\u001b[32m  ✓ \u001b[39m\u001b[90mFFTW\u001b[39m\n",
      "\u001b[32m  ✓ \u001b[39m\u001b[90mFFTViews\u001b[39m\n",
      "\u001b[32m  ✓ \u001b[39mGPUCompiler\n",
      "\u001b[32m  ✓ \u001b[39mTullio\n",
      "\u001b[32m  ✓ \u001b[39m\u001b[90mNetpbm\u001b[39m\n",
      "\u001b[32m  ✓ \u001b[39m\u001b[90mImageShow\u001b[39m\n",
      "\u001b[32m  ✓ \u001b[39m\u001b[90mImageMorphology\u001b[39m\n",
      "\u001b[32m  ✓ \u001b[39m\u001b[90mImageAxes\u001b[39m\n",
      "\u001b[32m  ✓ \u001b[39m\u001b[90mTiffImages\u001b[39m\n",
      "\u001b[32m  ✓ \u001b[39m\u001b[90mPNGFiles\u001b[39m\n",
      "\u001b[32m  ✓ \u001b[39m\u001b[90mImageMagick\u001b[39m\n",
      "\u001b[32m  ✓ \u001b[39m\u001b[90mImageIO\u001b[39m\n",
      "\u001b[32m  ✓ \u001b[39m\u001b[90mImageTransformations\u001b[39m\n",
      "\u001b[32m  ✓ \u001b[39m\u001b[90mImageDistances\u001b[39m\n",
      "\u001b[32m  ✓ \u001b[39m\u001b[90mImageMetadata\u001b[39m\n",
      "\u001b[32m  ✓ \u001b[39m\u001b[90mImageContrastAdjustment\u001b[39m\n",
      "\u001b[32m  ✓ \u001b[39m\u001b[90mImageFiltering\u001b[39m\n",
      "\u001b[32m  ✓ \u001b[39m\u001b[90mImageQualityIndexes\u001b[39m\n",
      "\u001b[32m  ✓ \u001b[39mCUDA\n",
      "\u001b[32m  ✓ \u001b[39mCUDAKernels\n",
      "\u001b[32m  ✓ \u001b[39mImages\n",
      "  88 dependencies successfully precompiled in 58 seconds (38 already precompiled)\n",
      "\u001b[32m\u001b[1m      Status\u001b[22m\u001b[39m `~/cscs_gpu_course/Project.toml`\n",
      " \u001b[90m [79e6a3ab] \u001b[39m\u001b[37mAdapt v3.3.1\u001b[39m\n",
      " \u001b[90m [6e4b80f9] \u001b[39m\u001b[37mBenchmarkTools v1.2.0\u001b[39m\n",
      " \u001b[90m [052768ef] \u001b[39m\u001b[37mCUDA v3.5.0 `https://github.com/JuliaGPU/CUDA.jl.git#4a575ea`\u001b[39m\n",
      " \u001b[90m [72cfdca4] \u001b[39m\u001b[37mCUDAKernels v0.3.1\u001b[39m\n",
      " \u001b[90m [3da002f7] \u001b[39m\u001b[37mColorTypes v0.11.0\u001b[39m\n",
      " \u001b[90m [53c48c17] \u001b[39m\u001b[37mFixedPointNumbers v0.8.4\u001b[39m\n",
      " \u001b[90m [61eb1bfa] \u001b[39m\u001b[37mGPUCompiler v0.13.7\u001b[39m\n",
      " \u001b[90m [7073ff75] \u001b[39m\u001b[37mIJulia v1.23.2\u001b[39m\n",
      " \u001b[90m [916415d5] \u001b[39m\u001b[37mImages v0.24.1\u001b[39m\n",
      " \u001b[90m [63c18a36] \u001b[39m\u001b[37mKernelAbstractions v0.7.1\u001b[39m\n",
      " \u001b[90m [5e47fb64] \u001b[39m\u001b[37mTestImages v1.6.2\u001b[39m\n",
      " \u001b[90m [bc48ee85] \u001b[39m\u001b[37mTullio v0.3.2\u001b[39m\n"
     ]
    }
   ],
   "source": [
    "Pkg.instantiate()\n",
    "Pkg.status()"
   ]
  },
  {
   "cell_type": "markdown",
   "metadata": {},
   "source": [
    "Be sure to restart all kernels after this, so that the new environment will be used!"
   ]
  },
  {
   "cell_type": "markdown",
   "metadata": {},
   "source": [
    "In addition, shut down this (and any other) kernel before launching a new one, because the GPUs on Piz Daint run in exclusive mode (i.e. they only allow a single active compute process)."
   ]
  },
  {
   "cell_type": "code",
   "execution_count": null,
   "metadata": {},
   "outputs": [],
   "source": []
  }
 ],
 "metadata": {
  "kernelspec": {
   "display_name": "Julia 1.6",
   "language": "julia",
   "name": "julia-1.6"
  },
  "language_info": {
   "file_extension": ".jl",
   "mimetype": "application/julia",
   "name": "julia",
   "version": "1.6.3"
  }
 },
 "nbformat": 4,
 "nbformat_minor": 4
}
